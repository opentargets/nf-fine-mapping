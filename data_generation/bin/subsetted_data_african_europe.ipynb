{
 "cells": [
  {
   "cell_type": "markdown",
   "id": "cf4cf4cf",
   "metadata": {},
   "source": [
    "# Generate Data \n",
    "\n",
    "To trial the pipeline running we will generate a parquet file for one of the main variant ids. We will chose 1 variant from the credible set and studies that appears in two studies; one from Africa and Europe. \n",
    "\n",
    "*Set Up*\n",
    "- insuide venv with uv install `gentropy`, and install JAVA using `curl -s \"https://get.sdkman.io\" | bash`\n",
    "\n",
    "- download open targets [credible set](https://platform-docs.opentargets.org/credible-set) using `gcloud storage cp -r gs://open-targets-data-releases/25.09/output/credible_set . --billing-project=opentargets-hack25cam-306`\n",
    "    this contains all of the credible sets\n",
    "\n",
    "- download open targets [study](https://platform-docs.opentargets.org/study) using `gcloud storage cp -r gs://open-targets-data-releases/25.09/output/study/ . --billing-project=opentargets-hack25cam-306`\n",
    "    this contains information per study, including the ancestory "
   ]
  },
  {
   "cell_type": "markdown",
   "id": "6d9811d8",
   "metadata": {},
   "source": [
    "### Set Up Spark Session"
   ]
  },
  {
   "cell_type": "code",
   "execution_count": 16,
   "id": "5ebf3f75",
   "metadata": {},
   "outputs": [
    {
     "name": "stderr",
     "output_type": "stream",
     "text": [
      "25/10/22 08:14:41 WARN SparkSession: Using an existing Spark session; only runtime SQL configurations will take effect.\n"
     ]
    },
    {
     "data": {
      "text/html": [
       "\n",
       "            <div>\n",
       "                <p><b>SparkSession - in-memory</b></p>\n",
       "                \n",
       "        <div>\n",
       "            <p><b>SparkContext</b></p>\n",
       "\n",
       "            <p><a href=\"http://georgia.c.opentargets-hack25cam-306.internal:4040\">Spark UI</a></p>\n",
       "\n",
       "            <dl>\n",
       "              <dt>Version</dt>\n",
       "                <dd><code>v3.5.1</code></dd>\n",
       "              <dt>Master</dt>\n",
       "                <dd><code>local[*]</code></dd>\n",
       "              <dt>AppName</dt>\n",
       "                <dd><code>Exploring OT Datasets</code></dd>\n",
       "            </dl>\n",
       "        </div>\n",
       "        \n",
       "            </div>\n",
       "        "
      ],
      "text/plain": [
       "<pyspark.sql.session.SparkSession at 0xf9239fc416a0>"
      ]
     },
     "execution_count": 16,
     "metadata": {},
     "output_type": "execute_result"
    }
   ],
   "source": [
    "from pyspark.sql import SparkSession\n",
    "\n",
    "spark = (\n",
    "    SparkSession.builder.appName(\"Exploring OT Datasets\")\n",
    "    .config(\"spark.driver.memory\", \"10g\")\n",
    "    .getOrCreate()\n",
    ")\n",
    "spark\n"
   ]
  },
  {
   "cell_type": "code",
   "execution_count": 17,
   "id": "33c48cf8",
   "metadata": {},
   "outputs": [
    {
     "name": "stderr",
     "output_type": "stream",
     "text": [
      "                                                                                \r"
     ]
    }
   ],
   "source": [
    "cs = spark.read.parquet(\"../data/credible_set/\")  # downloaded from google\n",
    "\n",
    "import pyspark.sql.functions as f\n",
    "\n",
    "cs_explode_ldset = (\n",
    "    cs.filter(f.col(\"studyType\") == \"gwas\")\n",
    "    .select(\"studyLocusID\", f.explode(\"ldSet\").alias(\"ldSet\"))\n",
    "    .select(\"studyLocusID\", \"ldSet.tagVariantId\")\n",
    ")\n",
    "\n",
    "cs_explode = (\n",
    "    cs.filter(cs.studyType == \"gwas\")\n",
    "    .filter(cs.finemappingMethod == \"SuSiE-inf\")\n",
    "    .select(\"studyID\", \"studyLocusID\", \"region\", f.explode(\"locus\").alias(\"locus\"))\n",
    "    .select(\n",
    "        \"studyID\",\n",
    "        \"studylocusID\",\n",
    "        \"region\",\n",
    "        \"locus.variantID\",\n",
    "        \"locus.pValueMantissa\",\n",
    "        \"locus.pValueExponent\",\n",
    "        \"locus.beta\",\n",
    "        \"locus.standardError\",\n",
    "    )\n",
    ")\n"
   ]
  },
  {
   "cell_type": "markdown",
   "id": "46778296",
   "metadata": {},
   "source": [
    "### Read in the Study object"
   ]
  },
  {
   "cell_type": "code",
   "execution_count": 18,
   "id": "2934a2ae",
   "metadata": {},
   "outputs": [
    {
     "name": "stdout",
     "output_type": "stream",
     "text": [
      "-RECORD 0--------------------------------------------------\n",
      " studyId                            | FINNGEN_R12_AUTOI... \n",
      " geneId                             | NULL                 \n",
      " projectId                          | FINNGEN_R12          \n",
      " studyType                          | gwas                 \n",
      " traitFromSource                    | Autoimmune hypert... \n",
      " traitFromSourceMappedIds           | [EFO_0004237]        \n",
      " biosampleFromSourceId              | NULL                 \n",
      " pubmedId                           | 36653562             \n",
      " publicationTitle                   | NULL                 \n",
      " publicationFirstAuthor             | NULL                 \n",
      " publicationDate                    | NULL                 \n",
      " publicationJournal                 | NULL                 \n",
      " backgroundTraitFromSourceMappedIds | NULL                 \n",
      " initialSampleSize                  | 500,348 (282,064 ... \n",
      " nCases                             | 2469                 \n",
      " nControls                          | 370637               \n",
      " nSamples                           | 373106               \n",
      " cohorts                            | [FinnGen]            \n",
      " ldPopulationStructure              | [{fin, 1.0}]         \n",
      " discoverySamples                   | [{500348, Finnish}]  \n",
      " replicationSamples                 | NULL                 \n",
      " qualityControls                    | []                   \n",
      " analysisFlags                      | []                   \n",
      " summarystatsLocation               | gs://finngen-publ... \n",
      " hasSumstats                        | true                 \n",
      " condition                          | NULL                 \n",
      " sumstatQCValues                    | NULL                 \n",
      " diseaseIds                         | [EFO_0004237]        \n",
      " backgroundDiseaseIds               | []                   \n",
      " biosampleId                        | NULL                 \n",
      "only showing top 1 row\n",
      "\n"
     ]
    }
   ],
   "source": [
    "# read study dataset\n",
    "st = spark.read.parquet(\"../data/study/\")\n",
    "st.show(1, vertical=True)\n"
   ]
  },
  {
   "cell_type": "code",
   "execution_count": 19,
   "id": "41d2594b",
   "metadata": {},
   "outputs": [
    {
     "name": "stderr",
     "output_type": "stream",
     "text": [
      "[Stage 34:=============================================>          (21 + 5) / 26]\r"
     ]
    },
    {
     "name": "stdout",
     "output_type": "stream",
     "text": [
      "+----------------+----------+\n",
      "|       variantID|pop_unique|\n",
      "+----------------+----------+\n",
      "| 17_31129861_T_G|         2|\n",
      "| 17_44491402_G_T|         2|\n",
      "| 17_60829296_C_A|         2|\n",
      "| 3_124620680_G_A|         3|\n",
      "| 2_219041843_C_T|         2|\n",
      "| 2_218240267_T_C|         2|\n",
      "| 2_164222629_T_G|         2|\n",
      "| 2_180674747_A_G|         2|\n",
      "| 1_205136853_A_G|         2|\n",
      "| 10_80193510_C_T|         2|\n",
      "|  5_40673074_G_T|         2|\n",
      "|  5_75688444_C_T|         2|\n",
      "|  12_6181927_G_A|         2|\n",
      "|  4_17943217_G_A|         2|\n",
      "|  4_54238287_A_T|         2|\n",
      "|  4_69107326_A_T|         2|\n",
      "|  1_87240189_G_A|         2|\n",
      "|12_111856192_C_G|         2|\n",
      "| 1_158617176_A_T|         2|\n",
      "| 1_231395730_T_G|         2|\n",
      "+----------------+----------+\n",
      "only showing top 20 rows\n",
      "\n"
     ]
    },
    {
     "name": "stderr",
     "output_type": "stream",
     "text": [
      "                                                                                \r"
     ]
    }
   ],
   "source": [
    "# explode studies where populatation structure is 1 (1 ancestery per study), and map those to our credible set studies\n",
    "st_exploded = (\n",
    "    st.filter(f.size(\"ldPopulationStructure\") == 1)\n",
    "    .select(\n",
    "        \"studyID\",\n",
    "        \"nSamples\",\n",
    "        f.col(\"ldPopulationStructure\").getItem(0).alias(\"pop_struct\"),\n",
    "    )\n",
    "    .select(\"studyId\", \"nSamples\", \"pop_struct.ldPopulation\")\n",
    ")\n",
    "\n",
    "# now each credible set variant is mapped to the population it came from\n",
    "df_joined = cs_explode.join(st_exploded, on=\"studyID\", how=\"inner\")\n",
    "\n",
    "from pyspark.sql.functions import countDistinct, col\n",
    "\n",
    "pop_counts = (\n",
    "    df_joined.groupBy(\"variantID\")\n",
    "    .agg(f.countDistinct(\"ldPopulation\").alias(\"pop_unique\"))\n",
    "    .filter(col(\"pop_unique\") >= 2)\n",
    ")\n",
    "\n",
    "# all variants we can use.... with at least two studies 100% from different ancesteries\n",
    "pop_counts.show()\n"
   ]
  },
  {
   "cell_type": "markdown",
   "id": "34b821cb",
   "metadata": {},
   "source": [
    "## Choose a Variant \n",
    "\n",
    "Here we manually pick a variant that has 2 studies, one from Africna deceent and one from European decsent. "
   ]
  },
  {
   "cell_type": "code",
   "execution_count": null,
   "id": "5864be43",
   "metadata": {},
   "outputs": [
    {
     "name": "stderr",
     "output_type": "stream",
     "text": [
      "[Stage 43:==========================================>             (15 + 5) / 20]\r"
     ]
    },
    {
     "name": "stdout",
     "output_type": "stream",
     "text": [
      "+------------+--------------------+--------------------+---------------+--------------+--------------+--------------------+-------------+--------+------------+\n",
      "|     studyID|        studylocusID|              region|      variantID|pValueMantissa|pValueExponent|                beta|standardError|nSamples|ldPopulation|\n",
      "+------------+--------------------+--------------------+---------------+--------------+--------------+--------------------+-------------+--------+------------+\n",
      "|  GCST004601|5c32208a7bac00b3e...|1:204946589-20539...|1_205136853_A_G|          NULL|          NULL|-0.01586299851098...|         NULL|  172952|         nfe|\n",
      "|GCST90002363|7ff6961e35a506197...|1:204893222-20540...|1_205136853_A_G|          NULL|          NULL|-0.01613941590756707|         NULL|  545203|         nfe|\n",
      "|GCST90475508|c1d709c81649b00c0...|1:204969603-20539...|1_205136853_A_G|          NULL|          NULL|-0.01173232428566...|         NULL|  296975|         nfe|\n",
      "|  GCST004634|190e5f0f742e44550...|1:204942978-20539...|1_205136853_A_G|          NULL|          NULL|-0.01400886136571...|         NULL|  170223|         nfe|\n",
      "|GCST90475159|e050c652b696cfb90...|1:204743658-20604...|1_205136853_A_G|          NULL|          NULL|0.008140353940473835|         NULL|  424217|         nfe|\n",
      "|  GCST004618|08b38c25c49967acf...|1:204940260-20539...|1_205136853_A_G|          NULL|          NULL|-0.01658666586290246|         NULL|  171846|         nfe|\n",
      "|  GCST004605|86fdc4d6c20cafeff...|1:204946156-20540...|1_205136853_A_G|          NULL|          NULL| 0.02087680908719655|         NULL|  172851|         nfe|\n",
      "|  GCST004602|b83fbcf4c717b048d...|1:204943956-20540...|1_205136853_A_G|          NULL|          NULL|0.019525566734480512|         NULL|  172433|         nfe|\n",
      "|  GCST004630|cc27f273650f02f95...|1:204834830-20545...|1_205136853_A_G|          NULL|          NULL|0.026535411175278835|         NULL|  172332|         nfe|\n",
      "|GCST90002403|ac816501c9068ee8f...|1:204910910-20590...|1_205136853_A_G|          NULL|          NULL|-0.01821976123252...|         NULL|  408112|         nfe|\n",
      "|GCST90475449|881929267f9bbac5a...|1:204946589-20538...|1_205136853_A_G|          NULL|          NULL|0.014180421840136782|         NULL|  114836|         afr|\n",
      "+------------+--------------------+--------------------+---------------+--------------+--------------+--------------------+-------------+--------+------------+\n",
      "\n"
     ]
    },
    {
     "name": "stderr",
     "output_type": "stream",
     "text": [
      "                                                                                \r"
     ]
    }
   ],
   "source": [
    "lead_variant = \"1_205136853_A_G\"\n",
    "df_joined.filter(col(\"variantID\").isin([lead_variant])).show()\n"
   ]
  },
  {
   "cell_type": "code",
   "execution_count": null,
   "id": "2ea58f40",
   "metadata": {},
   "outputs": [
    {
     "name": "stderr",
     "output_type": "stream",
     "text": [
      "[Stage 48:=======================================>                (14 + 6) / 20]\r"
     ]
    },
    {
     "name": "stdout",
     "output_type": "stream",
     "text": [
      "+------------+--------------------------------+---------------------+---------------+--------------+--------------+---------------------+-------------+--------+------------+\n",
      "|studyID     |studylocusID                    |region               |variantID      |pValueMantissa|pValueExponent|beta                 |standardError|nSamples|ldPopulation|\n",
      "+------------+--------------------------------+---------------------+---------------+--------------+--------------+---------------------+-------------+--------+------------+\n",
      "|GCST90002403|ac816501c9068ee8ff755ad9443a8199|1:204910910-205902271|1_205136853_A_G|NULL          |NULL          |-0.018219761232528487|NULL         |408112  |nfe         |\n",
      "|GCST90475449|881929267f9bbac5a26d92c7077ce775|1:204946589-205386310|1_205136853_A_G|NULL          |NULL          |0.014180421840136782 |NULL         |114836  |afr         |\n",
      "+------------+--------------------------------+---------------------+---------------+--------------+--------------+---------------------+-------------+--------+------------+\n",
      "\n"
     ]
    },
    {
     "name": "stderr",
     "output_type": "stream",
     "text": [
      "                                                                                \r"
     ]
    }
   ],
   "source": [
    "# two of the studies the lead variant is found in\n",
    "studyids = [\"GCST90475449\", \"GCST90002403\"]  # AFR, NFE\n",
    "\n",
    "df_joined.filter(col(\"variantID\").isin([lead_variant])).filter(\n",
    "    col(\"studyID\").isin(studyids)\n",
    ").show(truncate=False)\n"
   ]
  },
  {
   "cell_type": "markdown",
   "id": "93e3c882",
   "metadata": {},
   "source": [
    "## Download from EBI\n",
    "\n",
    "We searched nt he ebi [GWAS website](https://www.ebi.ac.uk/gwas/) and input the study IDs. We clicked the FTP and downloaded the harmonised tsv files into the following directory\n",
    "\n",
    "`located in data_generation/data/1_205136853_A_G`\n"
   ]
  },
  {
   "cell_type": "markdown",
   "id": "738e56f5",
   "metadata": {},
   "source": [
    "## Open and harmonise "
   ]
  },
  {
   "cell_type": "code",
   "execution_count": null,
   "id": "39d50979",
   "metadata": {},
   "outputs": [
    {
     "name": "stderr",
     "output_type": "stream",
     "text": [
      "25/10/22 08:14:48 WARN SparkSession: Using an existing Spark session; only runtime SQL configurations will take effect.\n"
     ]
    }
   ],
   "source": [
    "# start spark session via gentropy package\n",
    "import gentropy as gt\n",
    "\n",
    "session = gt.Session()\n",
    "spark = session.spark\n"
   ]
  },
  {
   "cell_type": "markdown",
   "id": "9b0ca361",
   "metadata": {},
   "source": [
    "### Generate SumSats\n",
    "\n",
    "Here we use the gentropy function `GWASCatalogSumstatsPreprocessStep()` to convert the EBI downloaded statistics from the `[study].h.tsv.gz` to the `.snappy.parquet` - the file format needed by gentropy."
   ]
  },
  {
   "cell_type": "code",
   "execution_count": null,
   "id": "44dacd15",
   "metadata": {},
   "outputs": [],
   "source": [
    "# summary statistics from a single study as example\n",
    "# this converts the TSV into the gentropy format\n",
    "\n",
    "from gentropy.gwas_catalog_sumstat_preprocess import GWASCatalogSumstatsPreprocessStep\n",
    "import os\n",
    "\n",
    "if os.path.exists(\"../outputs/1_205136853_A_G/AFR\"):\n",
    "    pass\n",
    "else:\n",
    "    GWASCatalogSumstatsPreprocessStep(\n",
    "        session=session,\n",
    "        raw_sumstats_path=f\"../data/{lead_variant}/AFR/GCST90475449.h.tsv.gz\",\n",
    "        out_sumstats_path=f\"../outputs/{lead_variant}/AFR\",\n",
    "    )\n",
    "    GWASCatalogSumstatsPreprocessStep(\n",
    "        session=session,\n",
    "        raw_sumstats_path=f\"../data/{lead_variant}/NFE/32888494-GCST90002403-EFO_0004305.h.tsv.gz\",\n",
    "        out_sumstats_path=f\"../outputs/{lead_variant}/NFE\",\n",
    "    )\n"
   ]
  },
  {
   "cell_type": "code",
   "execution_count": 24,
   "id": "ea66e6e6",
   "metadata": {},
   "outputs": [],
   "source": [
    "# use spark to read the generated parquet files\n",
    "\n",
    "harmonised_gwas_ss_afr = spark.read.parquet(f\"../outputs/{lead_variant}/AFR\")\n",
    "harmonised_gwas_ss_nfe = spark.read.parquet(f\"../outputs/{lead_variant}/NFE\")\n"
   ]
  },
  {
   "cell_type": "code",
   "execution_count": 25,
   "id": "3c285114",
   "metadata": {},
   "outputs": [
    {
     "name": "stdout",
     "output_type": "stream",
     "text": [
      "+------------+---------------+----------+---------+--------------+--------------+---------+-------------+-------------------------------+----------+\n",
      "|     studyId|      variantId|chromosome| position|pValueMantissa|pValueExponent|     beta|standardError|effectAlleleFrequencyFromSource|sampleSize|\n",
      "+------------+---------------+----------+---------+--------------+--------------+---------+-------------+-------------------------------+----------+\n",
      "|GCST90475449|  1_6751163_T_A|         1|  6751163|         8.597|            -1| 8.153E-4|     0.004613|                         0.4478|    114836|\n",
      "|GCST90475449| 1_59180012_A_C|         1| 59180012|         9.078|            -1|-0.001845|      0.01594|                         0.0256|    114836|\n",
      "|GCST90475449| 1_20804008_G_T|         1| 20804008|          6.04|            -1|  0.09261|       0.1786|                         3.0E-4|    114836|\n",
      "|GCST90475449|1_105213462_T_C|         1|105213462|         3.741|            -1|  0.03963|      0.04459|                         0.0038|    114836|\n",
      "|GCST90475449|1_107718761_C_T|         1|107718761|         2.089|            -1| -0.09001|      0.07164|                         0.0015|    114836|\n",
      "|GCST90475449| 1_19524697_C_T|         1| 19524697|          3.97|            -1|  0.01895|      0.02237|                         0.0129|    114836|\n",
      "|GCST90475449| 1_94326785_T_C|         1| 94326785|         3.473|            -1| -0.05366|      0.05709|                         0.0019|    114836|\n",
      "|GCST90475449| 1_72583104_C_T|         1| 72583104|         8.861|            -2| -0.01426|     0.008372|                         0.0883|    114836|\n",
      "|GCST90475449| 1_81764281_G_A|         1| 81764281|         8.958|            -1| -0.01316|       0.1004|                         0.0016|    114836|\n",
      "|GCST90475449|1_18421974_G_GA|         1| 18421974|         1.095|            -1|  -0.1586|      0.09908|                         7.0E-4|    114836|\n",
      "|GCST90475449| 1_80241775_A_G|         1| 80241775|         5.876|            -1| -0.07842|       0.1446|                         4.0E-4|    114836|\n",
      "|GCST90475449|1_107983631_G_A|         1|107983631|          1.94|            -1| -0.03156|       0.0243|                         0.0118|    114836|\n",
      "|GCST90475449| 1_34195266_G_A|         1| 34195266|         5.166|            -1| 0.009641|      0.01487|                         0.0251|    114836|\n",
      "|GCST90475449| 1_24166698_C_A|         1| 24166698|          8.94|            -2|   0.1163|      0.06845|                         0.0018|    114836|\n",
      "|GCST90475449|1_81366295_GA_G|         1| 81366295|         1.073|            -2| -0.01319|      0.00517|                         0.4432|    114836|\n",
      "|GCST90475449| 1_90179027_A_C|         1| 90179027|          2.89|            -2| -0.01296|      0.00593|                         0.2163|    114836|\n",
      "|GCST90475449| 1_90418665_T_C|         1| 90418665|         4.179|            -1|   0.1631|       0.2013|                         3.0E-4|    114836|\n",
      "|GCST90475449|  1_7214859_C_T|         1|  7214859|         2.169|            -1| 0.009537|     0.007723|                         0.1219|    114836|\n",
      "|GCST90475449| 1_52919105_G_A|         1| 52919105|          4.81|            -1| 0.005535|     0.007854|                         0.1092|    114836|\n",
      "|GCST90475449| 1_79611005_T_C|         1| 79611005|          6.25|            -1|  0.02344|      0.04795|                         0.0025|    114836|\n",
      "+------------+---------------+----------+---------+--------------+--------------+---------+-------------+-------------------------------+----------+\n",
      "only showing top 20 rows\n",
      "\n"
     ]
    }
   ],
   "source": [
    "harmonised_gwas_ss_afr.show()\n"
   ]
  },
  {
   "cell_type": "code",
   "execution_count": 26,
   "id": "a35ac7fd",
   "metadata": {},
   "outputs": [
    {
     "name": "stdout",
     "output_type": "stream",
     "text": [
      "+------------+---------------+----------+---------+--------------+--------------+-------+-------------+-------------------------------+----------+\n",
      "|studyId     |variantId      |chromosome|position |pValueMantissa|pValueExponent|beta   |standardError|effectAlleleFrequencyFromSource|sampleSize|\n",
      "+------------+---------------+----------+---------+--------------+--------------+-------+-------------+-------------------------------+----------+\n",
      "|GCST90475449|1_205136853_A_G|1         |205136853|5.847         |-8            |0.03909|0.007207     |0.1177                         |114836    |\n",
      "+------------+---------------+----------+---------+--------------+--------------+-------+-------------+-------------------------------+----------+\n",
      "\n"
     ]
    }
   ],
   "source": [
    "from pyspark.sql.functions import col\n",
    "\n",
    "# sanity check lead variant is in AFR callset\n",
    "harmonised_gwas_ss_afr.filter(col(\"variantId\") == lead_variant).show(truncate=False)\n"
   ]
  },
  {
   "cell_type": "code",
   "execution_count": 27,
   "id": "26455f89",
   "metadata": {},
   "outputs": [
    {
     "name": "stdout",
     "output_type": "stream",
     "text": [
      "+------------+---------------+----------+---------+--------------+--------------+----------+-------------+-------------------------------+----------+\n",
      "|studyId     |variantId      |chromosome|position |pValueMantissa|pValueExponent|beta      |standardError|effectAlleleFrequencyFromSource|sampleSize|\n",
      "+------------+---------------+----------+---------+--------------+--------------+----------+-------------+-------------------------------+----------+\n",
      "|GCST90002403|1_205136853_A_G|1         |205136853|4.6           |-33           |-0.0251221|0.00209728   |0.447654                       |NULL      |\n",
      "+------------+---------------+----------+---------+--------------+--------------+----------+-------------+-------------------------------+----------+\n",
      "\n"
     ]
    }
   ],
   "source": [
    "# sanity check lead variant is in NFE callset\n",
    "harmonised_gwas_ss_nfe.filter(col(\"variantId\") == lead_variant).show(truncate=False)\n"
   ]
  },
  {
   "cell_type": "markdown",
   "id": "36af0b2f",
   "metadata": {},
   "source": [
    "## Subset the New SumStats files using the Genomic Regions from the Studies in Credible Sets\n",
    "\n",
    "Filter the "
   ]
  },
  {
   "cell_type": "code",
   "execution_count": 28,
   "id": "60998496",
   "metadata": {},
   "outputs": [
    {
     "name": "stderr",
     "output_type": "stream",
     "text": [
      "                                                                                \r"
     ]
    },
    {
     "name": "stdout",
     "output_type": "stream",
     "text": [
      "+------------+--------------------+--------------------+---------------+--------------+--------------+--------------------+-------------+--------+------------+\n",
      "|     studyID|        studylocusID|              region|      variantID|pValueMantissa|pValueExponent|                beta|standardError|nSamples|ldPopulation|\n",
      "+------------+--------------------+--------------------+---------------+--------------+--------------+--------------------+-------------+--------+------------+\n",
      "|GCST90002403|ac816501c9068ee8f...|1:204910910-20590...|1_205136853_A_G|          NULL|          NULL|-0.01821976123252...|         NULL|  408112|         nfe|\n",
      "|GCST90475449|881929267f9bbac5a...|1:204946589-20538...|1_205136853_A_G|          NULL|          NULL|0.014180421840136782|         NULL|  114836|         afr|\n",
      "+------------+--------------------+--------------------+---------------+--------------+--------------+--------------------+-------------+--------+------------+\n",
      "\n"
     ]
    },
    {
     "name": "stderr",
     "output_type": "stream",
     "text": [
      "[Stage 65:=================================================>      (23 + 3) / 26]\r"
     ]
    },
    {
     "name": "stdout",
     "output_type": "stream",
     "text": [
      "+--------------------+------------+\n",
      "|              region|     studyID|\n",
      "+--------------------+------------+\n",
      "|1:204946589-20538...|GCST90475449|\n",
      "|1:204910910-20590...|GCST90002403|\n",
      "+--------------------+------------+\n",
      "\n"
     ]
    },
    {
     "name": "stderr",
     "output_type": "stream",
     "text": [
      "                                                                                \r"
     ]
    }
   ],
   "source": [
    "# filter the original df to get the variants from the chosen studies\n",
    "lv_df = df_joined.filter(col(\"variantID\").isin([lead_variant])).filter(\n",
    "    col(\"studyID\").isin(studyids)\n",
    ")\n",
    "lv_df.show()\n",
    "lv_df.select(col(\"region\"), col(\"studyID\")).distinct().show()\n"
   ]
  },
  {
   "cell_type": "markdown",
   "id": "c5dae80a",
   "metadata": {},
   "source": [
    "### Filter by Genomic Region"
   ]
  },
  {
   "cell_type": "code",
   "execution_count": 29,
   "id": "4473b6c3",
   "metadata": {},
   "outputs": [
    {
     "name": "stdout",
     "output_type": "stream",
     "text": [
      "+------------+--------------------+----------+--------+--------------+--------------+-----------+-------------+-------------------------------+----------+\n",
      "|     studyId|           variantId|chromosome|position|pValueMantissa|pValueExponent|       beta|standardError|effectAlleleFrequencyFromSource|sampleSize|\n",
      "+------------+--------------------+----------+--------+--------------+--------------+-----------+-------------+-------------------------------+----------+\n",
      "|GCST90002403|      1_55409076_T_A|         1|55409076|           2.7|            -1| 0.00709597|   0.00641397|                       0.028805|      NULL|\n",
      "|GCST90002403|      1_77398636_A_G|         1|77398636|           4.6|            -4|  0.0142114|   0.00405495|                       0.071674|      NULL|\n",
      "|GCST90002403|      1_75181590_C_T|         1|75181590|           9.0|            -1|-0.00470341|     0.037002|                        8.14E-4|      NULL|\n",
      "|GCST90002403|      1_15217870_A_C|         1|15217870|           3.4|            -1| 0.00258378|   0.00269704|                       0.183229|      NULL|\n",
      "|GCST90002403|      1_64857939_C_T|         1|64857939|           9.7|            -1|-0.00145679|    0.0433148|                        9.28E-4|      NULL|\n",
      "|GCST90002403|      1_97053276_A_T|         1|97053276|           6.1|            -1|-0.00386063|   0.00751339|                       0.020427|      NULL|\n",
      "|GCST90002403|      1_16876417_T_C|         1|16876417|           5.8|            -1| -0.0239894|    0.0430101|                        6.89E-4|      NULL|\n",
      "|GCST90002403|       1_6609668_G_A|         1| 6609668|           6.5|            -2|  0.0258302|     0.013987|                       0.006008|      NULL|\n",
      "|GCST90002403|      1_66481230_A_G|         1|66481230|           7.6|            -1| 6.25714E-4|   0.00209204|                       0.512678|      NULL|\n",
      "|GCST90002403|      1_10646515_C_T|         1|10646515|           7.9|            -2|  -0.317156|     0.180263|                         5.5E-5|      NULL|\n",
      "|GCST90002403|1_17285922_CAAAAA...|         1|17285922|           8.1|            -1|-5.98094E-4|   0.00248709|                       0.244015|      NULL|\n",
      "|GCST90002403|      1_54950178_C_G|         1|54950178|           5.0|            -1|-0.00150034|   0.00219992|                       0.349977|      NULL|\n",
      "|GCST90002403|       1_3583960_G_A|         1| 3583960|           5.4|            -1|  0.0557043|    0.0904556|                        1.69E-4|      NULL|\n",
      "|GCST90002403|      1_18262915_C_T|         1|18262915|           8.5|            -1| 4.15898E-4|   0.00217378|                       0.362393|      NULL|\n",
      "|GCST90002403|      1_17306384_A_C|         1|17306384|           2.4|            -1| -0.0268294|    0.0230734|                       0.002284|      NULL|\n",
      "|GCST90002403|      1_86427136_G_T|         1|86427136|           6.5|            -1| 0.00102905|   0.00228319|                       0.703183|      NULL|\n",
      "|GCST90002403|      1_56408573_G_A|         1|56408573|           9.0|            -1|  0.0187623|     0.144444|                        1.19E-4|      NULL|\n",
      "|GCST90002403|      1_75648226_T_C|         1|75648226|           6.7|            -1| 0.00469629|    0.0111999|                      0.9903747|      NULL|\n",
      "|GCST90002403|      1_39628148_C_G|         1|39628148|           7.9|            -1| -0.0412239|     0.152664|                         7.5E-5|      NULL|\n",
      "|GCST90002403|      1_93395670_G_A|         1|93395670|           9.4|            -1| 0.00744286|    0.0980687|                        1.52E-4|      NULL|\n",
      "+------------+--------------------+----------+--------+--------------+--------------+-----------+-------------+-------------------------------+----------+\n",
      "only showing top 20 rows\n",
      "\n"
     ]
    }
   ],
   "source": [
    "# region = 1:204910910-205902271\n",
    "harmonised_gwas_ss_nfe.show()\n"
   ]
  },
  {
   "cell_type": "code",
   "execution_count": null,
   "id": "5e5e0fa9",
   "metadata": {},
   "outputs": [],
   "source": [
    "region_chr = 1\n",
    "region_start = 204_910_910\n",
    "region_end = 205_902_271\n"
   ]
  },
  {
   "cell_type": "code",
   "execution_count": null,
   "id": "acd18a06",
   "metadata": {},
   "outputs": [],
   "source": [
    "subset_region_afr = harmonised_gwas_ss_afr.filter(\n",
    "    (f.col(\"chromosome\") == region_chr)\n",
    "    & (f.col(\"position\") >= region_start)\n",
    "    & (f.col(\"position\") <= region_end)\n",
    ")\n",
    "\n",
    "subset_region_nfe = harmonised_gwas_ss_nfe.filter(\n",
    "    (f.col(\"chromosome\") == region_chr)\n",
    "    & (f.col(\"position\") >= region_start)\n",
    "    & (f.col(\"position\") <= region_end)\n",
    ")\n"
   ]
  },
  {
   "cell_type": "code",
   "execution_count": null,
   "id": "2604efae",
   "metadata": {},
   "outputs": [
    {
     "name": "stderr",
     "output_type": "stream",
     "text": [
      "[Stage 71:================================>                       (15 + 8) / 26]\r"
     ]
    },
    {
     "name": "stdout",
     "output_type": "stream",
     "text": [
      "+------------+---------------+----------+---------+--------------+--------------+-----------+-------------+-------------------------------+----------+------------+\n",
      "|     studyId|      variantId|chromosome| position|pValueMantissa|pValueExponent|       beta|standardError|effectAlleleFrequencyFromSource|sampleSize|ldPopulation|\n",
      "+------------+---------------+----------+---------+--------------+--------------+-----------+-------------+-------------------------------+----------+------------+\n",
      "|GCST90002403|1_205532052_C_A|         1|205532052|           5.0|            -1|  -0.101327|     0.148539|                        1.21E-4|      NULL|         nfe|\n",
      "|GCST90002403|1_205675412_G_C|         1|205675412|           9.1|            -1|-0.00916497|    0.0770102|                        3.26E-4|      NULL|         nfe|\n",
      "|GCST90002403|1_205313820_C_T|         1|205313820|           6.0|            -2|  0.0170392|   0.00905335|                        0.01398|      NULL|         nfe|\n",
      "|GCST90002403|1_205591508_G_T|         1|205591508|           1.6|            -1|-0.00354808|   0.00249587|                       0.229692|      NULL|         nfe|\n",
      "|GCST90002403|1_205349874_T_C|         1|205349874|           3.0|            -1| -0.0631012|    0.0607234|                        4.39E-4|      NULL|         nfe|\n",
      "|GCST90002403|1_205619080_T_C|         1|205619080|           1.9|            -1|   -0.10867|    0.0838251|                        1.73E-4|      NULL|         nfe|\n",
      "|GCST90002403|1_205365504_C_T|         1|205365504|           1.7|            -1|-0.00511429|   0.00369484|                       0.087663|      NULL|         nfe|\n",
      "|GCST90002403|1_205652410_T_A|         1|205652410|           5.7|            -2|   0.111579|    0.0585401|                        6.51E-4|      NULL|         nfe|\n",
      "|GCST90002403|1_205749034_T_C|         1|205749034|           3.1|            -1| -0.0627867|    0.0615766|                        4.02E-4|      NULL|         nfe|\n",
      "|GCST90002403|1_205087759_T_C|         1|205087759|           1.8|            -1| -0.0443643|    0.0331419|                       0.001127|      NULL|         nfe|\n",
      "|GCST90002403|1_204977987_G_A|         1|204977987|           2.6|            -1|   0.174276|     0.154851|                         9.9E-5|      NULL|         nfe|\n",
      "|GCST90002403|1_205808989_G_A|         1|205808989|           6.9|            -1|  0.0465742|     0.116749|                        1.18E-4|      NULL|         nfe|\n",
      "|GCST90002403|1_205196036_A_G|         1|205196036|           7.7|            -1| -0.0448412|     0.151461|                         5.1E-5|      NULL|         nfe|\n",
      "|GCST90002403|1_205175762_G_A|         1|205175762|           9.8|            -1| 0.00278255|    0.0890762|                        2.26E-4|      NULL|         nfe|\n",
      "|GCST90002403|1_204983789_G_A|         1|204983789|           8.9|            -1| 0.00548704|    0.0385973|                       0.001015|      NULL|         nfe|\n",
      "|GCST90002403|1_205129706_T_C|         1|205129706|           6.6|            -5|  -0.137584|    0.0344812|                       0.001024|      NULL|         nfe|\n",
      "|GCST90002403|1_205609852_T_C|         1|205609852|           2.5|            -1| 0.00859774|   0.00752942|                        0.01979|      NULL|         nfe|\n",
      "|GCST90002403|1_205594908_G_C|         1|205594908|           6.0|            -1| -0.0472972|    0.0900318|                        1.41E-4|      NULL|         nfe|\n",
      "|GCST90002403|1_205527156_C_T|         1|205527156|           3.1|            -1| -0.0553214|    0.0542027|                        4.85E-4|      NULL|         nfe|\n",
      "|GCST90002403|1_205286310_T_C|         1|205286310|           3.4|           -27| -0.0233801|   0.00216466|                       0.372463|      NULL|         nfe|\n",
      "+------------+---------------+----------+---------+--------------+--------------+-----------+-------------+-------------------------------+----------+------------+\n",
      "only showing top 20 rows\n",
      "\n"
     ]
    },
    {
     "name": "stderr",
     "output_type": "stream",
     "text": [
      "                                                                                \r"
     ]
    }
   ],
   "source": [
    "# concat\n",
    "subset_region_combined = subset_region_nfe.union(subset_region_afr)\n",
    "subset_region_with_pop = subset_region_combined.join(\n",
    "    lv_df.select(\"studyID\", \"ldPopulation\"), on=\"studyID\", how=\"left\"\n",
    ")\n",
    "subset_region_with_pop.show()\n"
   ]
  },
  {
   "cell_type": "markdown",
   "id": "847ec523",
   "metadata": {},
   "source": [
    "## output data "
   ]
  },
  {
   "cell_type": "code",
   "execution_count": null,
   "id": "94ae84b9",
   "metadata": {},
   "outputs": [
    {
     "name": "stderr",
     "output_type": "stream",
     "text": [
      "                                                                                \r"
     ]
    },
    {
     "data": {
      "text/plain": [
       "950"
      ]
     },
     "execution_count": 33,
     "metadata": {},
     "output_type": "execute_result"
    }
   ],
   "source": [
    "# check there are signfiicant values, we need some pValueExponent < -3\n",
    "subset_region_with_pop.filter(subset_region_with_pop.pValueExponent < -3).count()\n"
   ]
  },
  {
   "cell_type": "code",
   "execution_count": null,
   "id": "f7a42c36",
   "metadata": {},
   "outputs": [
    {
     "name": "stderr",
     "output_type": "stream",
     "text": [
      "                                                                                \r"
     ]
    }
   ],
   "source": [
    "subset_region_with_pop.write.parquet(\n",
    "    f\"../outputs/{lead_variant}_set.parquet\", mode=\"overwrite\"\n",
    ")\n"
   ]
  }
 ],
 "metadata": {
  "kernelspec": {
   "display_name": "nf-fine-mapping (3.13.7)",
   "language": "python",
   "name": "python3"
  },
  "language_info": {
   "codemirror_mode": {
    "name": "ipython",
    "version": 3
   },
   "file_extension": ".py",
   "mimetype": "text/x-python",
   "name": "python",
   "nbconvert_exporter": "python",
   "pygments_lexer": "ipython3",
   "version": "3.13.7"
  }
 },
 "nbformat": 4,
 "nbformat_minor": 5
}
