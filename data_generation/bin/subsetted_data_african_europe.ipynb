{
 "cells": [
  {
   "cell_type": "markdown",
   "id": "cf4cf4cf",
   "metadata": {},
   "source": [
    "# Generate Data \n",
    "\n",
    "To trial the pipeline running we will generate a parquet file for one of the main variant ids. We will chose 1 variant from the credible set and studies that appears in two studies; one from Africa and Europe. "
   ]
  },
  {
   "cell_type": "markdown",
   "id": "6d9811d8",
   "metadata": {},
   "source": [
    "### Set Up Spark Session"
   ]
  },
  {
   "cell_type": "code",
   "execution_count": 1,
   "id": "5ebf3f75",
   "metadata": {},
   "outputs": [
    {
     "name": "stderr",
     "output_type": "stream",
     "text": [
      "Setting default log level to \"WARN\".\n",
      "To adjust logging level use sc.setLogLevel(newLevel). For SparkR, use setLogLevel(newLevel).\n",
      "25/10/21 20:17:13 WARN NativeCodeLoader: Unable to load native-hadoop library for your platform... using builtin-java classes where applicable\n"
     ]
    },
    {
     "data": {
      "text/html": [
       "\n",
       "            <div>\n",
       "                <p><b>SparkSession - in-memory</b></p>\n",
       "                \n",
       "        <div>\n",
       "            <p><b>SparkContext</b></p>\n",
       "\n",
       "            <p><a href=\"http://georgia.c.opentargets-hack25cam-306.internal:4040\">Spark UI</a></p>\n",
       "\n",
       "            <dl>\n",
       "              <dt>Version</dt>\n",
       "                <dd><code>v3.5.1</code></dd>\n",
       "              <dt>Master</dt>\n",
       "                <dd><code>local[*]</code></dd>\n",
       "              <dt>AppName</dt>\n",
       "                <dd><code>Exploring OT Datasets</code></dd>\n",
       "            </dl>\n",
       "        </div>\n",
       "        \n",
       "            </div>\n",
       "        "
      ],
      "text/plain": [
       "<pyspark.sql.session.SparkSession at 0xec341848cc20>"
      ]
     },
     "execution_count": 1,
     "metadata": {},
     "output_type": "execute_result"
    }
   ],
   "source": [
    "from pyspark.sql import SparkSession\n",
    "\n",
    "spark = (\n",
    "    SparkSession.builder.appName(\"Exploring OT Datasets\")\n",
    "    .config(\"spark.driver.memory\", \"10g\")\n",
    "    .getOrCreate()\n",
    ")\n",
    "spark\n"
   ]
  },
  {
   "cell_type": "code",
   "execution_count": null,
   "id": "33c48cf8",
   "metadata": {},
   "outputs": [],
   "source": [
    "cs = spark.read.parquet(\"../data/credible_set/\")  # downloaded from\n",
    "\n",
    "import pyspark.sql.functions as f\n",
    "\n",
    "cs_explode_ldset = (\n",
    "    cs.filter(f.col(\"studyType\") == \"gwas\")\n",
    "    .select(\"studyLocusID\", F.explode(\"ldSet\").alias(\"ldSet\"))\n",
    "    .select(\"studyLocusID\", \"ldSet.tagVariantId\")\n",
    ")\n",
    "\n",
    "cs_explode = (\n",
    "    cs.filter(cs.studyType == \"gwas\")\n",
    "    .filter(cs.finemappingMethod == \"SuSiE-inf\")\n",
    "    .select(\"studyID\", \"studyLocusID\", \"region\", f.explode(\"locus\").alias(\"locus\"))\n",
    "    .select(\n",
    "        \"studyID\",\n",
    "        \"studylocusID\",\n",
    "        \"region\",\n",
    "        \"locus.variantID\",\n",
    "        \"locus.pValueMantissa\",\n",
    "        \"locus.pValueExponent\",\n",
    "        \"locus.beta\",\n",
    "        \"locus.standardError\",\n",
    "    )\n",
    ")\n"
   ]
  },
  {
   "cell_type": "markdown",
   "id": "46778296",
   "metadata": {},
   "source": [
    "### Read in the Study object"
   ]
  },
  {
   "cell_type": "code",
   "execution_count": 3,
   "id": "2934a2ae",
   "metadata": {},
   "outputs": [
    {
     "name": "stderr",
     "output_type": "stream",
     "text": [
      "25/10/21 20:17:17 WARN SparkStringUtils: Truncated the string representation of a plan since it was too large. This behavior can be adjusted by setting 'spark.sql.debug.maxToStringFields'.\n"
     ]
    },
    {
     "name": "stdout",
     "output_type": "stream",
     "text": [
      "-RECORD 0--------------------------------------------------\n",
      " studyId                            | FINNGEN_R12_AUTOI... \n",
      " geneId                             | NULL                 \n",
      " projectId                          | FINNGEN_R12          \n",
      " studyType                          | gwas                 \n",
      " traitFromSource                    | Autoimmune hypert... \n",
      " traitFromSourceMappedIds           | [EFO_0004237]        \n",
      " biosampleFromSourceId              | NULL                 \n",
      " pubmedId                           | 36653562             \n",
      " publicationTitle                   | NULL                 \n",
      " publicationFirstAuthor             | NULL                 \n",
      " publicationDate                    | NULL                 \n",
      " publicationJournal                 | NULL                 \n",
      " backgroundTraitFromSourceMappedIds | NULL                 \n",
      " initialSampleSize                  | 500,348 (282,064 ... \n",
      " nCases                             | 2469                 \n",
      " nControls                          | 370637               \n",
      " nSamples                           | 373106               \n",
      " cohorts                            | [FinnGen]            \n",
      " ldPopulationStructure              | [{fin, 1.0}]         \n",
      " discoverySamples                   | [{500348, Finnish}]  \n",
      " replicationSamples                 | NULL                 \n",
      " qualityControls                    | []                   \n",
      " analysisFlags                      | []                   \n",
      " summarystatsLocation               | gs://finngen-publ... \n",
      " hasSumstats                        | true                 \n",
      " condition                          | NULL                 \n",
      " sumstatQCValues                    | NULL                 \n",
      " diseaseIds                         | [EFO_0004237]        \n",
      " backgroundDiseaseIds               | []                   \n",
      " biosampleId                        | NULL                 \n",
      "only showing top 1 row\n",
      "\n"
     ]
    }
   ],
   "source": [
    "# read study dataset\n",
    "st = spark.read.parquet(\"../data/study/\")\n",
    "st.show(1, vertical=True)\n"
   ]
  },
  {
   "cell_type": "code",
   "execution_count": 4,
   "id": "41d2594b",
   "metadata": {},
   "outputs": [
    {
     "name": "stderr",
     "output_type": "stream",
     "text": [
      "[Stage 5:===========================================>             (20 + 6) / 26]\r"
     ]
    },
    {
     "name": "stdout",
     "output_type": "stream",
     "text": [
      "+----------------+----------+\n",
      "|       variantID|pop_unique|\n",
      "+----------------+----------+\n",
      "| 17_31129861_T_G|         2|\n",
      "| 17_44491402_G_T|         2|\n",
      "| 17_60829296_C_A|         2|\n",
      "| 3_124620680_G_A|         3|\n",
      "| 2_219041843_C_T|         2|\n",
      "| 2_218240267_T_C|         2|\n",
      "| 2_164222629_T_G|         2|\n",
      "| 2_180674747_A_G|         2|\n",
      "| 1_205136853_A_G|         2|\n",
      "| 10_80193510_C_T|         2|\n",
      "|  5_40673074_G_T|         2|\n",
      "|  5_75688444_C_T|         2|\n",
      "|  12_6181927_G_A|         2|\n",
      "|  4_17943217_G_A|         2|\n",
      "|  4_54238287_A_T|         2|\n",
      "|  4_69107326_A_T|         2|\n",
      "|  1_87240189_G_A|         2|\n",
      "|12_111856192_C_G|         2|\n",
      "| 1_158617176_A_T|         2|\n",
      "| 1_231395730_T_G|         2|\n",
      "+----------------+----------+\n",
      "only showing top 20 rows\n",
      "\n"
     ]
    },
    {
     "name": "stderr",
     "output_type": "stream",
     "text": [
      "                                                                                \r"
     ]
    }
   ],
   "source": [
    "# explode studies where populatation structure is 1 (1 ancestery per study), and map those to our credible set studies\n",
    "st_exploded = (\n",
    "    st.filter(f.size(\"ldPopulationStructure\") == 1)\n",
    "    .select(\n",
    "        \"studyID\",\n",
    "        \"nSamples\",\n",
    "        f.col(\"ldPopulationStructure\").getItem(0).alias(\"pop_struct\"),\n",
    "    )\n",
    "    .select(\"studyId\", \"nSamples\", \"pop_struct.ldPopulation\")\n",
    ")\n",
    "\n",
    "# now each credible set variant is mapped to the population it came from\n",
    "df_joined = cs_explode.join(st_exploded, on=\"studyID\", how=\"inner\")\n",
    "\n",
    "from pyspark.sql.functions import countDistinct, col\n",
    "\n",
    "pop_counts = (\n",
    "    df_joined.groupBy(\"variantID\")\n",
    "    .agg(f.countDistinct(\"ldPopulation\").alias(\"pop_unique\"))\n",
    "    .filter(col(\"pop_unique\") >= 2)\n",
    ")\n",
    "\n",
    "# all variants we can use.... with at least two studies from different ancesteries\n",
    "pop_counts.show()\n"
   ]
  },
  {
   "cell_type": "markdown",
   "id": "34b821cb",
   "metadata": {},
   "source": [
    "## Choose a Variant "
   ]
  },
  {
   "cell_type": "code",
   "execution_count": 5,
   "id": "5864be43",
   "metadata": {},
   "outputs": [
    {
     "name": "stderr",
     "output_type": "stream",
     "text": [
      "                                                                                \r"
     ]
    },
    {
     "name": "stdout",
     "output_type": "stream",
     "text": [
      "+------------+--------------------+--------------------+---------------+--------------+--------------+--------------------+-------------+--------+------------+\n",
      "|     studyID|        studylocusID|              region|      variantID|pValueMantissa|pValueExponent|                beta|standardError|nSamples|ldPopulation|\n",
      "+------------+--------------------+--------------------+---------------+--------------+--------------+--------------------+-------------+--------+------------+\n",
      "|  GCST004601|5c32208a7bac00b3e...|1:204946589-20539...|1_205136853_A_G|          NULL|          NULL|-0.01586299851098...|         NULL|  172952|         nfe|\n",
      "|GCST90002363|7ff6961e35a506197...|1:204893222-20540...|1_205136853_A_G|          NULL|          NULL|-0.01613941590756707|         NULL|  545203|         nfe|\n",
      "|GCST90475508|c1d709c81649b00c0...|1:204969603-20539...|1_205136853_A_G|          NULL|          NULL|-0.01173232428566...|         NULL|  296975|         nfe|\n",
      "|  GCST004634|190e5f0f742e44550...|1:204942978-20539...|1_205136853_A_G|          NULL|          NULL|-0.01400886136571...|         NULL|  170223|         nfe|\n",
      "|GCST90475159|e050c652b696cfb90...|1:204743658-20604...|1_205136853_A_G|          NULL|          NULL|0.008140353940473835|         NULL|  424217|         nfe|\n",
      "|  GCST004618|08b38c25c49967acf...|1:204940260-20539...|1_205136853_A_G|          NULL|          NULL|-0.01658666586290246|         NULL|  171846|         nfe|\n",
      "|  GCST004605|86fdc4d6c20cafeff...|1:204946156-20540...|1_205136853_A_G|          NULL|          NULL| 0.02087680908719655|         NULL|  172851|         nfe|\n",
      "|  GCST004602|b83fbcf4c717b048d...|1:204943956-20540...|1_205136853_A_G|          NULL|          NULL|0.019525566734480512|         NULL|  172433|         nfe|\n",
      "|  GCST004630|cc27f273650f02f95...|1:204834830-20545...|1_205136853_A_G|          NULL|          NULL|0.026535411175278835|         NULL|  172332|         nfe|\n",
      "|GCST90002403|ac816501c9068ee8f...|1:204910910-20590...|1_205136853_A_G|          NULL|          NULL|-0.01821976123252...|         NULL|  408112|         nfe|\n",
      "|GCST90475449|881929267f9bbac5a...|1:204946589-20538...|1_205136853_A_G|          NULL|          NULL|0.014180421840136782|         NULL|  114836|         afr|\n",
      "+------------+--------------------+--------------------+---------------+--------------+--------------+--------------------+-------------+--------+------------+\n",
      "\n"
     ]
    }
   ],
   "source": [
    "lead_variant = \"1_205136853_A_G\"\n",
    "df_joined.filter(col(\"variantID\").isin([lead_variant])).show()\n"
   ]
  },
  {
   "cell_type": "code",
   "execution_count": 6,
   "id": "2ea58f40",
   "metadata": {},
   "outputs": [
    {
     "name": "stderr",
     "output_type": "stream",
     "text": [
      "[Stage 19:============================================>           (16 + 4) / 20]\r"
     ]
    },
    {
     "name": "stdout",
     "output_type": "stream",
     "text": [
      "+------------+--------------------------------+---------------------+---------------+--------------+--------------+---------------------+-------------+--------+------------+\n",
      "|studyID     |studylocusID                    |region               |variantID      |pValueMantissa|pValueExponent|beta                 |standardError|nSamples|ldPopulation|\n",
      "+------------+--------------------------------+---------------------+---------------+--------------+--------------+---------------------+-------------+--------+------------+\n",
      "|GCST90002403|ac816501c9068ee8ff755ad9443a8199|1:204910910-205902271|1_205136853_A_G|NULL          |NULL          |-0.018219761232528487|NULL         |408112  |nfe         |\n",
      "|GCST90475449|881929267f9bbac5a26d92c7077ce775|1:204946589-205386310|1_205136853_A_G|NULL          |NULL          |0.014180421840136782 |NULL         |114836  |afr         |\n",
      "+------------+--------------------------------+---------------------+---------------+--------------+--------------+---------------------+-------------+--------+------------+\n",
      "\n"
     ]
    },
    {
     "name": "stderr",
     "output_type": "stream",
     "text": [
      "                                                                                \r"
     ]
    }
   ],
   "source": [
    "studyids = [\"GCST90475449\", \"GCST90002403\"]  # AFR, NFE\n",
    "\n",
    "df_joined.filter(col(\"variantID\").isin([lead_variant])).filter(\n",
    "    col(\"studyID\").isin(studyids)\n",
    ").show(truncate=False)\n"
   ]
  },
  {
   "cell_type": "markdown",
   "id": "93e3c882",
   "metadata": {},
   "source": [
    "## Download from EBI\n",
    "\n",
    "We searched at the following website and input the study IDs. We downloaded the the harmonised h.tsv files. \n",
    "\n",
    "https://www.ebi.ac.uk/gwas/\n",
    "\n",
    "`located in data_generation/data/1_205136853_A_G`\n",
    "\n",
    "[\"GCST90475449\", \"GCST90002403\"]  \n"
   ]
  },
  {
   "cell_type": "markdown",
   "id": "738e56f5",
   "metadata": {},
   "source": [
    "## Open and harmonise "
   ]
  },
  {
   "cell_type": "code",
   "execution_count": 7,
   "id": "39d50979",
   "metadata": {},
   "outputs": [
    {
     "data": {
      "text/html": [
       "    <style>\n",
       "        .bk-notebook-logo {\n",
       "            display: block;\n",
       "            width: 20px;\n",
       "            height: 20px;\n",
       "            background-image: url(data:image/png;base64,iVBORw0KGgoAAAANSUhEUgAAABQAAAAUCAYAAACNiR0NAAAABHNCSVQICAgIfAhkiAAAAAlwSFlzAAALEgAACxIB0t1+/AAAABx0RVh0U29mdHdhcmUAQWRvYmUgRmlyZXdvcmtzIENTNui8sowAAAOkSURBVDiNjZRtaJVlGMd/1/08zzln5zjP1LWcU9N0NkN8m2CYjpgQYQXqSs0I84OLIC0hkEKoPtiH3gmKoiJDU7QpLgoLjLIQCpEsNJ1vqUOdO7ppbuec5+V+rj4ctwzd8IIbbi6u+8f1539dt3A78eXC7QizUF7gyV1fD1Yqg4JWz84yffhm0qkFqBogB9rM8tZdtwVsPUhWhGcFJngGeWrPzHm5oaMmkfEg1usvLFyc8jLRqDOMru7AyC8saQr7GG7f5fvDeH7Ej8CM66nIF+8yngt6HWaKh7k49Soy9nXurCi1o3qUbS3zWfrYeQDTB/Qj6kX6Ybhw4B+bOYoLKCC9H3Nu/leUTZ1JdRWkkn2ldcCamzrcf47KKXdAJllSlxAOkRgyHsGC/zRday5Qld9DyoM4/q/rUoy/CXh3jzOu3bHUVZeU+DEn8FInkPBFlu3+nW3Nw0mk6vCDiWg8CeJaxEwuHS3+z5RgY+YBR6V1Z1nxSOfoaPa4LASWxxdNp+VWTk7+4vzaou8v8PN+xo+KY2xsw6une2frhw05CTYOmQvsEhjhWjn0bmXPjpE1+kplmmkP3suftwTubK9Vq22qKmrBhpY4jvd5afdRA3wGjFAgcnTK2s4hY0/GPNIb0nErGMCRxWOOX64Z8RAC4oCXdklmEvcL8o0BfkNK4lUg9HTl+oPlQxdNo3Mg4Nv175e/1LDGzZen30MEjRUtmXSfiTVu1kK8W4txyV6BMKlbgk3lMwYCiusNy9fVfvvwMxv8Ynl6vxoByANLTWplvuj/nF9m2+PDtt1eiHPBr1oIfhCChQMBw6Aw0UulqTKZdfVvfG7VcfIqLG9bcldL/+pdWTLxLUy8Qq38heUIjh4XlzZxzQm19lLFlr8vdQ97rjZVOLf8nclzckbcD4wxXMidpX30sFd37Fv/GtwwhzhxGVAprjbg0gCAEeIgwCZyTV2Z1REEW8O4py0wsjeloKoMr6iCY6dP92H6Vw/oTyICIthibxjm/DfN9lVz8IqtqKYLUXfoKVMVQVVJOElGjrnnUt9T9wbgp8AyYKaGlqingHZU/uG2NTZSVqwHQTWkx9hxjkpWDaCg6Ckj5qebgBVbT3V3NNXMSiWSDdGV3hrtzla7J+duwPOToIg42ChPQOQjspnSlp1V+Gjdged7+8UN5CRAV7a5EdFNwCjEaBR27b3W890TE7g24NAP/mMDXRWrGoFPQI9ls/MWO2dWFAar/xcOIImbbpA3zgAAAABJRU5ErkJggg==);\n",
       "        }\n",
       "    </style>\n",
       "    <div>\n",
       "        <a href=\"https://bokeh.org\" target=\"_blank\" class=\"bk-notebook-logo\"></a>\n",
       "        <span id=\"fbb865af-fcd8-4c72-9bf1-0dc0998567b6\">Loading BokehJS ...</span>\n",
       "    </div>\n"
      ]
     },
     "metadata": {},
     "output_type": "display_data"
    },
    {
     "data": {
      "application/javascript": "'use strict';\n(function(root) {\n  function now() {\n    return new Date();\n  }\n\n  const force = true;\n\n  if (typeof root._bokeh_onload_callbacks === \"undefined\" || force === true) {\n    root._bokeh_onload_callbacks = [];\n    root._bokeh_is_loading = undefined;\n  }\n\nconst JS_MIME_TYPE = 'application/javascript';\n  const HTML_MIME_TYPE = 'text/html';\n  const EXEC_MIME_TYPE = 'application/vnd.bokehjs_exec.v0+json';\n  const CLASS_NAME = 'output_bokeh rendered_html';\n\n  /**\n   * Render data to the DOM node\n   */\n  function render(props, node) {\n    const script = document.createElement(\"script\");\n    node.appendChild(script);\n  }\n\n  /**\n   * Handle when an output is cleared or removed\n   */\n  function handleClearOutput(event, handle) {\n    function drop(id) {\n      const view = Bokeh.index.get_by_id(id)\n      if (view != null) {\n        view.model.document.clear()\n        Bokeh.index.delete(view)\n      }\n    }\n\n    const cell = handle.cell;\n\n    const id = cell.output_area._bokeh_element_id;\n    const server_id = cell.output_area._bokeh_server_id;\n\n    // Clean up Bokeh references\n    if (id != null) {\n      drop(id)\n    }\n\n    if (server_id !== undefined) {\n      // Clean up Bokeh references\n      const cmd_clean = \"from bokeh.io.state import curstate; print(curstate().uuid_to_server['\" + server_id + \"'].get_sessions()[0].document.roots[0]._id)\";\n      cell.notebook.kernel.execute(cmd_clean, {\n        iopub: {\n          output: function(msg) {\n            const id = msg.content.text.trim()\n            drop(id)\n          }\n        }\n      });\n      // Destroy server and session\n      const cmd_destroy = \"import bokeh.io.notebook as ion; ion.destroy_server('\" + server_id + \"')\";\n      cell.notebook.kernel.execute(cmd_destroy);\n    }\n  }\n\n  /**\n   * Handle when a new output is added\n   */\n  function handleAddOutput(event, handle) {\n    const output_area = handle.output_area;\n    const output = handle.output;\n\n    // limit handleAddOutput to display_data with EXEC_MIME_TYPE content only\n    if ((output.output_type != \"display_data\") || (!Object.prototype.hasOwnProperty.call(output.data, EXEC_MIME_TYPE))) {\n      return\n    }\n\n    const toinsert = output_area.element.find(\".\" + CLASS_NAME.split(' ')[0]);\n\n    if (output.metadata[EXEC_MIME_TYPE][\"id\"] !== undefined) {\n      toinsert[toinsert.length - 1].firstChild.textContent = output.data[JS_MIME_TYPE];\n      // store reference to embed id on output_area\n      output_area._bokeh_element_id = output.metadata[EXEC_MIME_TYPE][\"id\"];\n    }\n    if (output.metadata[EXEC_MIME_TYPE][\"server_id\"] !== undefined) {\n      const bk_div = document.createElement(\"div\");\n      bk_div.innerHTML = output.data[HTML_MIME_TYPE];\n      const script_attrs = bk_div.children[0].attributes;\n      for (let i = 0; i < script_attrs.length; i++) {\n        toinsert[toinsert.length - 1].firstChild.setAttribute(script_attrs[i].name, script_attrs[i].value);\n        toinsert[toinsert.length - 1].firstChild.textContent = bk_div.children[0].textContent\n      }\n      // store reference to server id on output_area\n      output_area._bokeh_server_id = output.metadata[EXEC_MIME_TYPE][\"server_id\"];\n    }\n  }\n\n  function register_renderer(events, OutputArea) {\n\n    function append_mime(data, metadata, element) {\n      // create a DOM node to render to\n      const toinsert = this.create_output_subarea(\n        metadata,\n        CLASS_NAME,\n        EXEC_MIME_TYPE\n      );\n      this.keyboard_manager.register_events(toinsert);\n      // Render to node\n      const props = {data: data, metadata: metadata[EXEC_MIME_TYPE]};\n      render(props, toinsert[toinsert.length - 1]);\n      element.append(toinsert);\n      return toinsert\n    }\n\n    /* Handle when an output is cleared or removed */\n    events.on('clear_output.CodeCell', handleClearOutput);\n    events.on('delete.Cell', handleClearOutput);\n\n    /* Handle when a new output is added */\n    events.on('output_added.OutputArea', handleAddOutput);\n\n    /**\n     * Register the mime type and append_mime function with output_area\n     */\n    OutputArea.prototype.register_mime_type(EXEC_MIME_TYPE, append_mime, {\n      /* Is output safe? */\n      safe: true,\n      /* Index of renderer in `output_area.display_order` */\n      index: 0\n    });\n  }\n\n  // register the mime type if in Jupyter Notebook environment and previously unregistered\n  if (root.Jupyter !== undefined) {\n    const events = require('base/js/events');\n    const OutputArea = require('notebook/js/outputarea').OutputArea;\n\n    if (OutputArea.prototype.mime_types().indexOf(EXEC_MIME_TYPE) == -1) {\n      register_renderer(events, OutputArea);\n    }\n  }\n  if (typeof (root._bokeh_timeout) === \"undefined\" || force === true) {\n    root._bokeh_timeout = Date.now() + 5000;\n    root._bokeh_failed_load = false;\n  }\n\n  const NB_LOAD_WARNING = {'data': {'text/html':\n     \"<div style='background-color: #fdd'>\\n\"+\n     \"<p>\\n\"+\n     \"BokehJS does not appear to have successfully loaded. If loading BokehJS from CDN, this \\n\"+\n     \"may be due to a slow or bad network connection. Possible fixes:\\n\"+\n     \"</p>\\n\"+\n     \"<ul>\\n\"+\n     \"<li>re-rerun `output_notebook()` to attempt to load from CDN again, or</li>\\n\"+\n     \"<li>use INLINE resources instead, as so:</li>\\n\"+\n     \"</ul>\\n\"+\n     \"<code>\\n\"+\n     \"from bokeh.resources import INLINE\\n\"+\n     \"output_notebook(resources=INLINE)\\n\"+\n     \"</code>\\n\"+\n     \"</div>\"}};\n\n  function display_loaded(error = null) {\n    const el = document.getElementById(\"fbb865af-fcd8-4c72-9bf1-0dc0998567b6\");\n    if (el != null) {\n      const html = (() => {\n        if (typeof root.Bokeh === \"undefined\") {\n          if (error == null) {\n            return \"BokehJS is loading ...\";\n          } else {\n            return \"BokehJS failed to load.\";\n          }\n        } else {\n          const prefix = `BokehJS ${root.Bokeh.version}`;\n          if (error == null) {\n            return `${prefix} successfully loaded.`;\n          } else {\n            return `${prefix} <b>encountered errors</b> while loading and may not function as expected.`;\n          }\n        }\n      })();\n      el.innerHTML = html;\n\n      if (error != null) {\n        const wrapper = document.createElement(\"div\");\n        wrapper.style.overflow = \"auto\";\n        wrapper.style.height = \"5em\";\n        wrapper.style.resize = \"vertical\";\n        const content = document.createElement(\"div\");\n        content.style.fontFamily = \"monospace\";\n        content.style.whiteSpace = \"pre-wrap\";\n        content.style.backgroundColor = \"rgb(255, 221, 221)\";\n        content.textContent = error.stack ?? error.toString();\n        wrapper.append(content);\n        el.append(wrapper);\n      }\n    } else if (Date.now() < root._bokeh_timeout) {\n      setTimeout(() => display_loaded(error), 100);\n    }\n  }\n\n  function run_callbacks() {\n    try {\n      root._bokeh_onload_callbacks.forEach(function(callback) {\n        if (callback != null)\n          callback();\n      });\n    } finally {\n      delete root._bokeh_onload_callbacks\n    }\n    console.debug(\"Bokeh: all callbacks have finished\");\n  }\n\n  function load_libs(css_urls, js_urls, callback) {\n    if (css_urls == null) css_urls = [];\n    if (js_urls == null) js_urls = [];\n\n    root._bokeh_onload_callbacks.push(callback);\n    if (root._bokeh_is_loading > 0) {\n      console.debug(\"Bokeh: BokehJS is being loaded, scheduling callback at\", now());\n      return null;\n    }\n    if (js_urls == null || js_urls.length === 0) {\n      run_callbacks();\n      return null;\n    }\n    console.debug(\"Bokeh: BokehJS not loaded, scheduling load and callback at\", now());\n    root._bokeh_is_loading = css_urls.length + js_urls.length;\n\n    function on_load() {\n      root._bokeh_is_loading--;\n      if (root._bokeh_is_loading === 0) {\n        console.debug(\"Bokeh: all BokehJS libraries/stylesheets loaded\");\n        run_callbacks()\n      }\n    }\n\n    function on_error(url) {\n      console.error(\"failed to load \" + url);\n    }\n\n    for (let i = 0; i < css_urls.length; i++) {\n      const url = css_urls[i];\n      const element = document.createElement(\"link\");\n      element.onload = on_load;\n      element.onerror = on_error.bind(null, url);\n      element.rel = \"stylesheet\";\n      element.type = \"text/css\";\n      element.href = url;\n      console.debug(\"Bokeh: injecting link tag for BokehJS stylesheet: \", url);\n      document.body.appendChild(element);\n    }\n\n    for (let i = 0; i < js_urls.length; i++) {\n      const url = js_urls[i];\n      const element = document.createElement('script');\n      element.onload = on_load;\n      element.onerror = on_error.bind(null, url);\n      element.async = false;\n      element.src = url;\n      console.debug(\"Bokeh: injecting script tag for BokehJS library: \", url);\n      document.head.appendChild(element);\n    }\n  };\n\n  function inject_raw_css(css) {\n    const element = document.createElement(\"style\");\n    element.appendChild(document.createTextNode(css));\n    document.body.appendChild(element);\n  }\n\n  const js_urls = [\"https://cdn.bokeh.org/bokeh/release/bokeh-3.4.3.min.js\", \"https://cdn.bokeh.org/bokeh/release/bokeh-gl-3.4.3.min.js\", \"https://cdn.bokeh.org/bokeh/release/bokeh-widgets-3.4.3.min.js\", \"https://cdn.bokeh.org/bokeh/release/bokeh-tables-3.4.3.min.js\", \"https://cdn.bokeh.org/bokeh/release/bokeh-mathjax-3.4.3.min.js\"];\n  const css_urls = [];\n\n  const inline_js = [    function(Bokeh) {\n      Bokeh.set_log_level(\"info\");\n    },\nfunction(Bokeh) {\n    }\n  ];\n\n  function run_inline_js() {\n    if (root.Bokeh !== undefined || force === true) {\n      try {\n            for (let i = 0; i < inline_js.length; i++) {\n      inline_js[i].call(root, root.Bokeh);\n    }\n\n      } catch (error) {display_loaded(error);throw error;\n      }if (force === true) {\n        display_loaded();\n      }} else if (Date.now() < root._bokeh_timeout) {\n      setTimeout(run_inline_js, 100);\n    } else if (!root._bokeh_failed_load) {\n      console.log(\"Bokeh: BokehJS failed to load within specified timeout.\");\n      root._bokeh_failed_load = true;\n    } else if (force !== true) {\n      const cell = $(document.getElementById(\"fbb865af-fcd8-4c72-9bf1-0dc0998567b6\")).parents('.cell').data().cell;\n      cell.output_area.append_execute_result(NB_LOAD_WARNING)\n    }\n  }\n\n  if (root._bokeh_is_loading === 0) {\n    console.debug(\"Bokeh: BokehJS loaded, going straight to plotting\");\n    run_inline_js();\n  } else {\n    load_libs(css_urls, js_urls, function() {\n      console.debug(\"Bokeh: BokehJS plotting callback run at\", now());\n      run_inline_js();\n    });\n  }\n}(window));",
      "application/vnd.bokehjs_load.v0+json": ""
     },
     "metadata": {},
     "output_type": "display_data"
    },
    {
     "name": "stderr",
     "output_type": "stream",
     "text": [
      "/home/whittog/src/nf-fine-mapping/.venv/lib/python3.13/site-packages/pyspark/sql/pandas/functions.py:407: UserWarning:\n",
      "\n",
      "In Python 3.6+ and Spark 3.0+, it is preferred to specify type hints for pandas UDF instead of specifying pandas UDF type which will be deprecated in the future releases. See SPARK-28264 for more details.\n",
      "\n",
      "25/10/21 20:17:30 WARN SparkSession: Using an existing Spark session; only runtime SQL configurations will take effect.\n"
     ]
    }
   ],
   "source": [
    "import gentropy as gt\n",
    "\n",
    "session = gt.Session()\n",
    "spark = session.spark\n"
   ]
  },
  {
   "cell_type": "code",
   "execution_count": 8,
   "id": "44dacd15",
   "metadata": {},
   "outputs": [
    {
     "name": "stderr",
     "output_type": "stream",
     "text": [
      "                                                                                \r"
     ]
    },
    {
     "data": {
      "text/plain": [
       "<gentropy.gwas_catalog_sumstat_preprocess.GWASCatalogSumstatsPreprocessStep at 0xec33dbd156d0>"
      ]
     },
     "execution_count": 8,
     "metadata": {},
     "output_type": "execute_result"
    }
   ],
   "source": [
    "# summary statistics from a single study as example\n",
    "# this converts the TSV into the gentropy format\n",
    "\n",
    "from gentropy.gwas_catalog_sumstat_preprocess import GWASCatalogSumstatsPreprocessStep\n",
    "\n",
    "GWASCatalogSumstatsPreprocessStep(\n",
    "    session=session,\n",
    "    raw_sumstats_path=f\"../data/{lead_variant}/AFR/GCST90475449.h.tsv.gz\",\n",
    "    out_sumstats_path=f\"../outputs/{lead_variant}/AFR\",\n",
    ")\n",
    "GWASCatalogSumstatsPreprocessStep(\n",
    "    session=session,\n",
    "    raw_sumstats_path=f\"../data/{lead_variant}/NFE/32888494-GCST90002403-EFO_0004305.h.tsv.gz\",\n",
    "    out_sumstats_path=f\"../outputs/{lead_variant}/NFE\",\n",
    ")\n"
   ]
  },
  {
   "cell_type": "code",
   "execution_count": 9,
   "id": "ea66e6e6",
   "metadata": {},
   "outputs": [],
   "source": [
    "harmonised_gwas_ss_afr = spark.read.parquet(f\"../outputs/{lead_variant}/AFR\")\n",
    "harmonised_gwas_ss_nfe = spark.read.parquet(f\"../outputs/{lead_variant}/NFE\")\n"
   ]
  },
  {
   "cell_type": "code",
   "execution_count": 10,
   "id": "3c285114",
   "metadata": {},
   "outputs": [
    {
     "name": "stdout",
     "output_type": "stream",
     "text": [
      "+------------+---------------+----------+---------+--------------+--------------+---------+-------------+-------------------------------+----------+\n",
      "|     studyId|      variantId|chromosome| position|pValueMantissa|pValueExponent|     beta|standardError|effectAlleleFrequencyFromSource|sampleSize|\n",
      "+------------+---------------+----------+---------+--------------+--------------+---------+-------------+-------------------------------+----------+\n",
      "|GCST90475449|  1_6751163_T_A|         1|  6751163|         8.597|            -1| 8.153E-4|     0.004613|                         0.4478|    114836|\n",
      "|GCST90475449| 1_59180012_A_C|         1| 59180012|         9.078|            -1|-0.001845|      0.01594|                         0.0256|    114836|\n",
      "|GCST90475449| 1_20804008_G_T|         1| 20804008|          6.04|            -1|  0.09261|       0.1786|                         3.0E-4|    114836|\n",
      "|GCST90475449|1_105213462_T_C|         1|105213462|         3.741|            -1|  0.03963|      0.04459|                         0.0038|    114836|\n",
      "|GCST90475449|1_107718761_C_T|         1|107718761|         2.089|            -1| -0.09001|      0.07164|                         0.0015|    114836|\n",
      "|GCST90475449| 1_19524697_C_T|         1| 19524697|          3.97|            -1|  0.01895|      0.02237|                         0.0129|    114836|\n",
      "|GCST90475449| 1_94326785_T_C|         1| 94326785|         3.473|            -1| -0.05366|      0.05709|                         0.0019|    114836|\n",
      "|GCST90475449| 1_72583104_C_T|         1| 72583104|         8.861|            -2| -0.01426|     0.008372|                         0.0883|    114836|\n",
      "|GCST90475449| 1_81764281_G_A|         1| 81764281|         8.958|            -1| -0.01316|       0.1004|                         0.0016|    114836|\n",
      "|GCST90475449|1_18421974_G_GA|         1| 18421974|         1.095|            -1|  -0.1586|      0.09908|                         7.0E-4|    114836|\n",
      "|GCST90475449| 1_80241775_A_G|         1| 80241775|         5.876|            -1| -0.07842|       0.1446|                         4.0E-4|    114836|\n",
      "|GCST90475449|1_107983631_G_A|         1|107983631|          1.94|            -1| -0.03156|       0.0243|                         0.0118|    114836|\n",
      "|GCST90475449| 1_34195266_G_A|         1| 34195266|         5.166|            -1| 0.009641|      0.01487|                         0.0251|    114836|\n",
      "|GCST90475449| 1_24166698_C_A|         1| 24166698|          8.94|            -2|   0.1163|      0.06845|                         0.0018|    114836|\n",
      "|GCST90475449|1_81366295_GA_G|         1| 81366295|         1.073|            -2| -0.01319|      0.00517|                         0.4432|    114836|\n",
      "|GCST90475449| 1_90179027_A_C|         1| 90179027|          2.89|            -2| -0.01296|      0.00593|                         0.2163|    114836|\n",
      "|GCST90475449| 1_90418665_T_C|         1| 90418665|         4.179|            -1|   0.1631|       0.2013|                         3.0E-4|    114836|\n",
      "|GCST90475449|  1_7214859_C_T|         1|  7214859|         2.169|            -1| 0.009537|     0.007723|                         0.1219|    114836|\n",
      "|GCST90475449| 1_52919105_G_A|         1| 52919105|          4.81|            -1| 0.005535|     0.007854|                         0.1092|    114836|\n",
      "|GCST90475449| 1_79611005_T_C|         1| 79611005|          6.25|            -1|  0.02344|      0.04795|                         0.0025|    114836|\n",
      "+------------+---------------+----------+---------+--------------+--------------+---------+-------------+-------------------------------+----------+\n",
      "only showing top 20 rows\n",
      "\n"
     ]
    }
   ],
   "source": [
    "harmonised_gwas_ss_afr.show()\n"
   ]
  },
  {
   "cell_type": "code",
   "execution_count": 11,
   "id": "a35ac7fd",
   "metadata": {},
   "outputs": [
    {
     "name": "stdout",
     "output_type": "stream",
     "text": [
      "+------------+---------------+----------+---------+--------------+--------------+-------+-------------+-------------------------------+----------+\n",
      "|studyId     |variantId      |chromosome|position |pValueMantissa|pValueExponent|beta   |standardError|effectAlleleFrequencyFromSource|sampleSize|\n",
      "+------------+---------------+----------+---------+--------------+--------------+-------+-------------+-------------------------------+----------+\n",
      "|GCST90475449|1_205136853_A_G|1         |205136853|5.847         |-8            |0.03909|0.007207     |0.1177                         |114836    |\n",
      "+------------+---------------+----------+---------+--------------+--------------+-------+-------------+-------------------------------+----------+\n",
      "\n"
     ]
    }
   ],
   "source": [
    "from pyspark.sql.functions import col\n",
    "\n",
    "# sanity check lead variant is in AFR callset\n",
    "harmonised_gwas_ss_afr.filter(col(\"variantId\") == lead_variant).show(truncate=False)\n"
   ]
  },
  {
   "cell_type": "code",
   "execution_count": 12,
   "id": "26455f89",
   "metadata": {},
   "outputs": [
    {
     "name": "stdout",
     "output_type": "stream",
     "text": [
      "+------------+---------------+----------+---------+--------------+--------------+----------+-------------+-------------------------------+----------+\n",
      "|studyId     |variantId      |chromosome|position |pValueMantissa|pValueExponent|beta      |standardError|effectAlleleFrequencyFromSource|sampleSize|\n",
      "+------------+---------------+----------+---------+--------------+--------------+----------+-------------+-------------------------------+----------+\n",
      "|GCST90002403|1_205136853_A_G|1         |205136853|4.6           |-33           |-0.0251221|0.00209728   |0.447654                       |NULL      |\n",
      "+------------+---------------+----------+---------+--------------+--------------+----------+-------------+-------------------------------+----------+\n",
      "\n"
     ]
    }
   ],
   "source": [
    "# sanity check lead variant is in NFE callset\n",
    "harmonised_gwas_ss_nfe.filter(col(\"variantId\") == lead_variant).show(truncate=False)\n"
   ]
  },
  {
   "cell_type": "markdown",
   "id": "36af0b2f",
   "metadata": {},
   "source": [
    "### subset \n",
    "\n",
    "Filter the "
   ]
  },
  {
   "cell_type": "code",
   "execution_count": 13,
   "id": "60998496",
   "metadata": {},
   "outputs": [
    {
     "name": "stderr",
     "output_type": "stream",
     "text": [
      "                                                                                \r"
     ]
    },
    {
     "name": "stdout",
     "output_type": "stream",
     "text": [
      "+------------+--------------------+--------------------+---------------+--------------+--------------+--------------------+-------------+--------+------------+\n",
      "|     studyID|        studylocusID|              region|      variantID|pValueMantissa|pValueExponent|                beta|standardError|nSamples|ldPopulation|\n",
      "+------------+--------------------+--------------------+---------------+--------------+--------------+--------------------+-------------+--------+------------+\n",
      "|GCST90002403|ac816501c9068ee8f...|1:204910910-20590...|1_205136853_A_G|          NULL|          NULL|-0.01821976123252...|         NULL|  408112|         nfe|\n",
      "|GCST90475449|881929267f9bbac5a...|1:204946589-20538...|1_205136853_A_G|          NULL|          NULL|0.014180421840136782|         NULL|  114836|         afr|\n",
      "+------------+--------------------+--------------------+---------------+--------------+--------------+--------------------+-------------+--------+------------+\n",
      "\n"
     ]
    },
    {
     "name": "stderr",
     "output_type": "stream",
     "text": [
      "[Stage 54:======================================>                 (18 + 8) / 26]\r"
     ]
    },
    {
     "name": "stdout",
     "output_type": "stream",
     "text": [
      "+--------------------+------------+\n",
      "|              region|     studyID|\n",
      "+--------------------+------------+\n",
      "|1:204946589-20538...|GCST90475449|\n",
      "|1:204910910-20590...|GCST90002403|\n",
      "+--------------------+------------+\n",
      "\n"
     ]
    },
    {
     "name": "stderr",
     "output_type": "stream",
     "text": [
      "                                                                                \r"
     ]
    }
   ],
   "source": [
    "# filter the original df to get the variants from the chosen studies\n",
    "lv_df = df_joined.filter(col(\"variantID\").isin([lead_variant])).filter(\n",
    "    col(\"studyID\").isin(studyids)\n",
    ")\n",
    "lv_df.show()\n",
    "lv_df.select(col(\"region\"), col(\"studyID\")).distinct().show()\n"
   ]
  },
  {
   "cell_type": "markdown",
   "id": "c5dae80a",
   "metadata": {},
   "source": [
    "### Filter by Genomic Region"
   ]
  },
  {
   "cell_type": "code",
   "execution_count": 14,
   "id": "4473b6c3",
   "metadata": {},
   "outputs": [
    {
     "name": "stdout",
     "output_type": "stream",
     "text": [
      "+------------+--------------------+----------+--------+--------------+--------------+-----------+-------------+-------------------------------+----------+\n",
      "|     studyId|           variantId|chromosome|position|pValueMantissa|pValueExponent|       beta|standardError|effectAlleleFrequencyFromSource|sampleSize|\n",
      "+------------+--------------------+----------+--------+--------------+--------------+-----------+-------------+-------------------------------+----------+\n",
      "|GCST90002403|      1_55409076_T_A|         1|55409076|           2.7|            -1| 0.00709597|   0.00641397|                       0.028805|      NULL|\n",
      "|GCST90002403|      1_77398636_A_G|         1|77398636|           4.6|            -4|  0.0142114|   0.00405495|                       0.071674|      NULL|\n",
      "|GCST90002403|      1_75181590_C_T|         1|75181590|           9.0|            -1|-0.00470341|     0.037002|                        8.14E-4|      NULL|\n",
      "|GCST90002403|      1_15217870_A_C|         1|15217870|           3.4|            -1| 0.00258378|   0.00269704|                       0.183229|      NULL|\n",
      "|GCST90002403|      1_64857939_C_T|         1|64857939|           9.7|            -1|-0.00145679|    0.0433148|                        9.28E-4|      NULL|\n",
      "|GCST90002403|      1_97053276_A_T|         1|97053276|           6.1|            -1|-0.00386063|   0.00751339|                       0.020427|      NULL|\n",
      "|GCST90002403|      1_16876417_T_C|         1|16876417|           5.8|            -1| -0.0239894|    0.0430101|                        6.89E-4|      NULL|\n",
      "|GCST90002403|       1_6609668_G_A|         1| 6609668|           6.5|            -2|  0.0258302|     0.013987|                       0.006008|      NULL|\n",
      "|GCST90002403|      1_66481230_A_G|         1|66481230|           7.6|            -1| 6.25714E-4|   0.00209204|                       0.512678|      NULL|\n",
      "|GCST90002403|      1_10646515_C_T|         1|10646515|           7.9|            -2|  -0.317156|     0.180263|                         5.5E-5|      NULL|\n",
      "|GCST90002403|1_17285922_CAAAAA...|         1|17285922|           8.1|            -1|-5.98094E-4|   0.00248709|                       0.244015|      NULL|\n",
      "|GCST90002403|      1_54950178_C_G|         1|54950178|           5.0|            -1|-0.00150034|   0.00219992|                       0.349977|      NULL|\n",
      "|GCST90002403|       1_3583960_G_A|         1| 3583960|           5.4|            -1|  0.0557043|    0.0904556|                        1.69E-4|      NULL|\n",
      "|GCST90002403|      1_18262915_C_T|         1|18262915|           8.5|            -1| 4.15898E-4|   0.00217378|                       0.362393|      NULL|\n",
      "|GCST90002403|      1_17306384_A_C|         1|17306384|           2.4|            -1| -0.0268294|    0.0230734|                       0.002284|      NULL|\n",
      "|GCST90002403|      1_86427136_G_T|         1|86427136|           6.5|            -1| 0.00102905|   0.00228319|                       0.703183|      NULL|\n",
      "|GCST90002403|      1_56408573_G_A|         1|56408573|           9.0|            -1|  0.0187623|     0.144444|                        1.19E-4|      NULL|\n",
      "|GCST90002403|      1_75648226_T_C|         1|75648226|           6.7|            -1| 0.00469629|    0.0111999|                      0.9903747|      NULL|\n",
      "|GCST90002403|      1_39628148_C_G|         1|39628148|           7.9|            -1| -0.0412239|     0.152664|                         7.5E-5|      NULL|\n",
      "|GCST90002403|      1_93395670_G_A|         1|93395670|           9.4|            -1| 0.00744286|    0.0980687|                        1.52E-4|      NULL|\n",
      "+------------+--------------------+----------+--------+--------------+--------------+-----------+-------------+-------------------------------+----------+\n",
      "only showing top 20 rows\n",
      "\n"
     ]
    }
   ],
   "source": [
    "# region = 1:204910910-205902271\n",
    "harmonised_gwas_ss_nfe.show()\n"
   ]
  },
  {
   "cell_type": "code",
   "execution_count": 15,
   "id": "5e5e0fa9",
   "metadata": {},
   "outputs": [],
   "source": [
    "from pyspark.sql import functions as F\n",
    "\n",
    "region_chr = 1\n",
    "region_start = 204_910_910\n",
    "region_end = 205_902_271\n",
    "\n",
    "subset_region_afr = harmonised_gwas_ss_afr.filter(\n",
    "    (F.col(\"chromosome\") == region_chr)\n",
    "    & (F.col(\"position\") >= region_start)\n",
    "    & (F.col(\"position\") <= region_end)\n",
    ")\n"
   ]
  },
  {
   "cell_type": "code",
   "execution_count": 16,
   "id": "acd18a06",
   "metadata": {},
   "outputs": [],
   "source": [
    "subset_region_nfe = harmonised_gwas_ss_nfe.filter(\n",
    "    (F.col(\"chromosome\") == region_chr)\n",
    "    & (F.col(\"position\") >= region_start)\n",
    "    & (F.col(\"position\") <= region_end)\n",
    ")\n"
   ]
  },
  {
   "cell_type": "code",
   "execution_count": 17,
   "id": "2604efae",
   "metadata": {},
   "outputs": [
    {
     "name": "stderr",
     "output_type": "stream",
     "text": [
      "[Stage 60:====================================>                   (17 + 8) / 26]\r"
     ]
    },
    {
     "name": "stdout",
     "output_type": "stream",
     "text": [
      "+------------+---------------+----------+---------+--------------+--------------+-----------+-------------+-------------------------------+----------+------------+\n",
      "|     studyId|      variantId|chromosome| position|pValueMantissa|pValueExponent|       beta|standardError|effectAlleleFrequencyFromSource|sampleSize|ldPopulation|\n",
      "+------------+---------------+----------+---------+--------------+--------------+-----------+-------------+-------------------------------+----------+------------+\n",
      "|GCST90002403|1_205532052_C_A|         1|205532052|           5.0|            -1|  -0.101327|     0.148539|                        1.21E-4|      NULL|         nfe|\n",
      "|GCST90002403|1_205675412_G_C|         1|205675412|           9.1|            -1|-0.00916497|    0.0770102|                        3.26E-4|      NULL|         nfe|\n",
      "|GCST90002403|1_205313820_C_T|         1|205313820|           6.0|            -2|  0.0170392|   0.00905335|                        0.01398|      NULL|         nfe|\n",
      "|GCST90002403|1_205591508_G_T|         1|205591508|           1.6|            -1|-0.00354808|   0.00249587|                       0.229692|      NULL|         nfe|\n",
      "|GCST90002403|1_205349874_T_C|         1|205349874|           3.0|            -1| -0.0631012|    0.0607234|                        4.39E-4|      NULL|         nfe|\n",
      "|GCST90002403|1_205619080_T_C|         1|205619080|           1.9|            -1|   -0.10867|    0.0838251|                        1.73E-4|      NULL|         nfe|\n",
      "|GCST90002403|1_205365504_C_T|         1|205365504|           1.7|            -1|-0.00511429|   0.00369484|                       0.087663|      NULL|         nfe|\n",
      "|GCST90002403|1_205652410_T_A|         1|205652410|           5.7|            -2|   0.111579|    0.0585401|                        6.51E-4|      NULL|         nfe|\n",
      "|GCST90002403|1_205749034_T_C|         1|205749034|           3.1|            -1| -0.0627867|    0.0615766|                        4.02E-4|      NULL|         nfe|\n",
      "|GCST90002403|1_205087759_T_C|         1|205087759|           1.8|            -1| -0.0443643|    0.0331419|                       0.001127|      NULL|         nfe|\n",
      "|GCST90002403|1_204977987_G_A|         1|204977987|           2.6|            -1|   0.174276|     0.154851|                         9.9E-5|      NULL|         nfe|\n",
      "|GCST90002403|1_205808989_G_A|         1|205808989|           6.9|            -1|  0.0465742|     0.116749|                        1.18E-4|      NULL|         nfe|\n",
      "|GCST90002403|1_205196036_A_G|         1|205196036|           7.7|            -1| -0.0448412|     0.151461|                         5.1E-5|      NULL|         nfe|\n",
      "|GCST90002403|1_205175762_G_A|         1|205175762|           9.8|            -1| 0.00278255|    0.0890762|                        2.26E-4|      NULL|         nfe|\n",
      "|GCST90002403|1_204983789_G_A|         1|204983789|           8.9|            -1| 0.00548704|    0.0385973|                       0.001015|      NULL|         nfe|\n",
      "|GCST90002403|1_205129706_T_C|         1|205129706|           6.6|            -5|  -0.137584|    0.0344812|                       0.001024|      NULL|         nfe|\n",
      "|GCST90002403|1_205609852_T_C|         1|205609852|           2.5|            -1| 0.00859774|   0.00752942|                        0.01979|      NULL|         nfe|\n",
      "|GCST90002403|1_205594908_G_C|         1|205594908|           6.0|            -1| -0.0472972|    0.0900318|                        1.41E-4|      NULL|         nfe|\n",
      "|GCST90002403|1_205527156_C_T|         1|205527156|           3.1|            -1| -0.0553214|    0.0542027|                        4.85E-4|      NULL|         nfe|\n",
      "|GCST90002403|1_205286310_T_C|         1|205286310|           3.4|           -27| -0.0233801|   0.00216466|                       0.372463|      NULL|         nfe|\n",
      "+------------+---------------+----------+---------+--------------+--------------+-----------+-------------+-------------------------------+----------+------------+\n",
      "only showing top 20 rows\n",
      "\n"
     ]
    },
    {
     "name": "stderr",
     "output_type": "stream",
     "text": [
      "                                                                                \r"
     ]
    }
   ],
   "source": [
    "# concat\n",
    "subset_region_combined = subset_region_nfe.union(subset_region_afr)\n",
    "subset_region_with_pop = subset_region_combined.join(\n",
    "    lv_df.select(\"studyID\", \"ldPopulation\"), on=\"studyID\", how=\"left\"\n",
    ")\n",
    "subset_region_with_pop.show()\n"
   ]
  },
  {
   "cell_type": "code",
   "execution_count": null,
   "id": "f7a42c36",
   "metadata": {},
   "outputs": [
    {
     "name": "stderr",
     "output_type": "stream",
     "text": [
      "                                                                                \r"
     ]
    },
    {
     "ename": "AnalysisException",
     "evalue": "[PATH_ALREADY_EXISTS] Path file:/home/whittog/src/nf-fine-mapping/data_generation/outputs/1_205136853_A_G_set.parquet already exists. Set mode as \"overwrite\" to overwrite the existing path.",
     "output_type": "error",
     "traceback": [
      "\u001b[31m---------------------------------------------------------------------------\u001b[39m",
      "\u001b[31mAnalysisException\u001b[39m                         Traceback (most recent call last)",
      "\u001b[36mCell\u001b[39m\u001b[36m \u001b[39m\u001b[32mIn[18]\u001b[39m\u001b[32m, line 1\u001b[39m\n\u001b[32m----> \u001b[39m\u001b[32m1\u001b[39m \u001b[43msubset_region_with_pop\u001b[49m\u001b[43m.\u001b[49m\u001b[43mwrite\u001b[49m\u001b[43m.\u001b[49m\u001b[43mparquet\u001b[49m\u001b[43m(\u001b[49m\u001b[33;43mf\u001b[39;49m\u001b[33;43m\"\u001b[39;49m\u001b[33;43m../outputs/\u001b[39;49m\u001b[38;5;132;43;01m{\u001b[39;49;00m\u001b[43mlead_variant\u001b[49m\u001b[38;5;132;43;01m}\u001b[39;49;00m\u001b[33;43m_set.parquet\u001b[39;49m\u001b[33;43m\"\u001b[39;49m\u001b[43m)\u001b[49m\n",
      "\u001b[36mFile \u001b[39m\u001b[32m~/src/nf-fine-mapping/.venv/lib/python3.13/site-packages/pyspark/sql/readwriter.py:1721\u001b[39m, in \u001b[36mDataFrameWriter.parquet\u001b[39m\u001b[34m(self, path, mode, partitionBy, compression)\u001b[39m\n\u001b[32m   1719\u001b[39m     \u001b[38;5;28mself\u001b[39m.partitionBy(partitionBy)\n\u001b[32m   1720\u001b[39m \u001b[38;5;28mself\u001b[39m._set_opts(compression=compression)\n\u001b[32m-> \u001b[39m\u001b[32m1721\u001b[39m \u001b[38;5;28;43mself\u001b[39;49m\u001b[43m.\u001b[49m\u001b[43m_jwrite\u001b[49m\u001b[43m.\u001b[49m\u001b[43mparquet\u001b[49m\u001b[43m(\u001b[49m\u001b[43mpath\u001b[49m\u001b[43m)\u001b[49m\n",
      "\u001b[36mFile \u001b[39m\u001b[32m~/src/nf-fine-mapping/.venv/lib/python3.13/site-packages/py4j/java_gateway.py:1322\u001b[39m, in \u001b[36mJavaMember.__call__\u001b[39m\u001b[34m(self, *args)\u001b[39m\n\u001b[32m   1316\u001b[39m command = proto.CALL_COMMAND_NAME +\\\n\u001b[32m   1317\u001b[39m     \u001b[38;5;28mself\u001b[39m.command_header +\\\n\u001b[32m   1318\u001b[39m     args_command +\\\n\u001b[32m   1319\u001b[39m     proto.END_COMMAND_PART\n\u001b[32m   1321\u001b[39m answer = \u001b[38;5;28mself\u001b[39m.gateway_client.send_command(command)\n\u001b[32m-> \u001b[39m\u001b[32m1322\u001b[39m return_value = \u001b[43mget_return_value\u001b[49m\u001b[43m(\u001b[49m\n\u001b[32m   1323\u001b[39m \u001b[43m    \u001b[49m\u001b[43manswer\u001b[49m\u001b[43m,\u001b[49m\u001b[43m \u001b[49m\u001b[38;5;28;43mself\u001b[39;49m\u001b[43m.\u001b[49m\u001b[43mgateway_client\u001b[49m\u001b[43m,\u001b[49m\u001b[43m \u001b[49m\u001b[38;5;28;43mself\u001b[39;49m\u001b[43m.\u001b[49m\u001b[43mtarget_id\u001b[49m\u001b[43m,\u001b[49m\u001b[43m \u001b[49m\u001b[38;5;28;43mself\u001b[39;49m\u001b[43m.\u001b[49m\u001b[43mname\u001b[49m\u001b[43m)\u001b[49m\n\u001b[32m   1325\u001b[39m \u001b[38;5;28;01mfor\u001b[39;00m temp_arg \u001b[38;5;129;01min\u001b[39;00m temp_args:\n\u001b[32m   1326\u001b[39m     \u001b[38;5;28;01mif\u001b[39;00m \u001b[38;5;28mhasattr\u001b[39m(temp_arg, \u001b[33m\"\u001b[39m\u001b[33m_detach\u001b[39m\u001b[33m\"\u001b[39m):\n",
      "\u001b[36mFile \u001b[39m\u001b[32m~/src/nf-fine-mapping/.venv/lib/python3.13/site-packages/pyspark/errors/exceptions/captured.py:185\u001b[39m, in \u001b[36mcapture_sql_exception.<locals>.deco\u001b[39m\u001b[34m(*a, **kw)\u001b[39m\n\u001b[32m    181\u001b[39m converted = convert_exception(e.java_exception)\n\u001b[32m    182\u001b[39m \u001b[38;5;28;01mif\u001b[39;00m \u001b[38;5;129;01mnot\u001b[39;00m \u001b[38;5;28misinstance\u001b[39m(converted, UnknownException):\n\u001b[32m    183\u001b[39m     \u001b[38;5;66;03m# Hide where the exception came from that shows a non-Pythonic\u001b[39;00m\n\u001b[32m    184\u001b[39m     \u001b[38;5;66;03m# JVM exception message.\u001b[39;00m\n\u001b[32m--> \u001b[39m\u001b[32m185\u001b[39m     \u001b[38;5;28;01mraise\u001b[39;00m converted \u001b[38;5;28;01mfrom\u001b[39;00m\u001b[38;5;250m \u001b[39m\u001b[38;5;28;01mNone\u001b[39;00m\n\u001b[32m    186\u001b[39m \u001b[38;5;28;01melse\u001b[39;00m:\n\u001b[32m    187\u001b[39m     \u001b[38;5;28;01mraise\u001b[39;00m\n",
      "\u001b[31mAnalysisException\u001b[39m: [PATH_ALREADY_EXISTS] Path file:/home/whittog/src/nf-fine-mapping/data_generation/outputs/1_205136853_A_G_set.parquet already exists. Set mode as \"overwrite\" to overwrite the existing path."
     ]
    }
   ],
   "source": [
    "subset_region_with_pop.write.parquet(\n",
    "    f\"../outputs/{lead_variant}_set.parquet\",\n",
    ")\n"
   ]
  }
 ],
 "metadata": {
  "kernelspec": {
   "display_name": "nf-fine-mapping (3.13.7)",
   "language": "python",
   "name": "python3"
  },
  "language_info": {
   "codemirror_mode": {
    "name": "ipython",
    "version": 3
   },
   "file_extension": ".py",
   "mimetype": "text/x-python",
   "name": "python",
   "nbconvert_exporter": "python",
   "pygments_lexer": "ipython3",
   "version": "3.13.7"
  }
 },
 "nbformat": 4,
 "nbformat_minor": 5
}
